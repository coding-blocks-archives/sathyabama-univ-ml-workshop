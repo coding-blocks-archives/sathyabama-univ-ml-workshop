{
  "nbformat": 4,
  "nbformat_minor": 0,
  "metadata": {
    "colab": {
      "name": "Markov Chain.ipynb",
      "version": "0.3.2",
      "provenance": []
    },
    "kernelspec": {
      "name": "python3",
      "display_name": "Python 3"
    }
  },
  "cells": [
    {
      "cell_type": "code",
      "metadata": {
        "id": "3wwBjTGfQeux",
        "colab_type": "code",
        "colab": {}
      },
      "source": [
        "text = \"\"\"import cv2\n",
        "\n",
        "\n",
        "img = cv2.imread('Before.png')\n",
        "camera = cv2.VideoCapture(0)\n",
        "#cv2.imshow(\"Image \",img)\n",
        "\n",
        "face_detector = cv2.CascadeClassifier('my_model.xml')\n",
        "\n",
        "while True:\n",
        "\tret, img = camera.read()\n",
        "\n",
        "\tif ret==False:\n",
        "\t\tcontinue\n",
        "\n",
        "\tfaces_detected = face_detector.detectMultiScale(img,1.3,5)\n",
        "\tfor f in faces_detected:\n",
        "\t\tx,y,w,h = f # f is of type (x,y,w,h)\n",
        "\t\tgreen_color = (0,255,255)\n",
        "\t\tcv2.rectangle(img,(x,y),(x+w,y+h),green_color,10)\n",
        "\n",
        "\tcv2.imshow(\"Image\",img)\n",
        "\tcv2.waitKey(1)\"\"\""
      ],
      "execution_count": 0,
      "outputs": []
    },
    {
      "cell_type": "code",
      "metadata": {
        "id": "78tSZw8fQiyG",
        "colab_type": "code",
        "colab": {}
      },
      "source": [
        "k = 4"
      ],
      "execution_count": 0,
      "outputs": []
    },
    {
      "cell_type": "code",
      "metadata": {
        "id": "19GAKI8RQ3Jg",
        "colab_type": "code",
        "colab": {}
      },
      "source": [
        "def TransitionTable(text):\n",
        "    \n",
        "    T = {}\n",
        "    \n",
        "    for i in range(len(text)-k):\n",
        "        X = text[i:i+k] #Slicing current 4 currents from i to i+k-1\n",
        "        Y = text[i+k] # Next Char i+k\n",
        "        \n",
        "        if T.get(X) is None:\n",
        "            T[X] = {} # Insert X for first time\n",
        "            T[X][Y] = 1 # Set Freq of X->Y = 1 \n",
        "        else:\n",
        "            if T[X].get(Y) is None:\n",
        "                T[X][Y] = 1 # Add Y is not present \n",
        "            else:\n",
        "                T[X][Y] += 1 # Update Freq if already present\n",
        "                \n",
        "     #Out from the prev loop\n",
        "    s = 0\n",
        "    for kx in T.keys():\n",
        "        s = sum(T[kx].values())\n",
        "        \n",
        "        for ky in T[kx]:\n",
        "            T[kx][ky] /= s\n",
        "                \n",
        "                \n",
        "    return T\n",
        "    "
      ],
      "execution_count": 0,
      "outputs": []
    },
    {
      "cell_type": "code",
      "metadata": {
        "id": "8NxmEB8cRzdo",
        "colab_type": "code",
        "colab": {}
      },
      "source": [
        "#TransitionTable(text)"
      ],
      "execution_count": 0,
      "outputs": []
    },
    {
      "cell_type": "code",
      "metadata": {
        "id": "AtVWo4w_SnOc",
        "colab_type": "code",
        "colab": {}
      },
      "source": [
        "T = TransitionTable(text)"
      ],
      "execution_count": 0,
      "outputs": []
    },
    {
      "cell_type": "code",
      "metadata": {
        "id": "-rXK7yOPXQVF",
        "colab_type": "code",
        "colab": {}
      },
      "source": [
        "import numpy as np\n",
        "\n",
        "def predict(current_word):\n",
        "    \n",
        "    if T.get(current_word) is None:\n",
        "        return \" \"\n",
        "    \n",
        "    possible_chars = list(T[current_word].keys())\n",
        "    possible_probs = list(T[current_word].values())\n",
        "    \n",
        "    \n",
        "    return np.random.choice(possible_chars,p=possible_probs)\n",
        "    "
      ],
      "execution_count": 0,
      "outputs": []
    },
    {
      "cell_type": "code",
      "metadata": {
        "id": "X99orV4BX7Fe",
        "colab_type": "code",
        "colab": {
          "base_uri": "https://localhost:8080/",
          "height": 192
        },
        "outputId": "69c34a58-70b3-471d-c423-b0d69b39b311"
      },
      "source": [
        "\n",
        "\n",
        "\n",
        "TOTAL_LENGTH = 2000\n",
        "sent = \"import\"\n",
        "\n",
        "for i in range(TOTAL_LENGTH):\n",
        "    next_char = predict(sent[-k:])\n",
        "    sent += next_char\n",
        "    \n",
        "print(sent)"
      ],
      "execution_count": 77,
      "outputs": [
        {
          "output_type": "stream",
          "text": [
            "import cv2.imshow(\"Image\",img)\n",
            "\n",
            "face_detector.detector = camera = camera.read()\n",
            "\n",
            "\tcv2.VideoCapture(0)\n",
            "#cv2.imshow(\"Image \",img)\n",
            "\n",
            "face_detected = faces_detectMultiScale(img,1.3,5)\n",
            "\t\tcv2.waitKey(1)                                                                                                                                                                                                                                                                                                                                                                                                                                                                                                                                                                                                                                                                                                                                                                                                                                                                                                                                                                                                                                                                                                                                                                                                                                                                                                                                                                                                                                                                                                                                                                                                                                                                                                                                                                                                                                                                                   \n"
          ],
          "name": "stdout"
        }
      ]
    },
    {
      "cell_type": "code",
      "metadata": {
        "id": "-c5VKE5EaVMB",
        "colab_type": "code",
        "colab": {}
      },
      "source": [
        ""
      ],
      "execution_count": 0,
      "outputs": []
    },
    {
      "cell_type": "code",
      "metadata": {
        "id": "dNaU6Sy4cEis",
        "colab_type": "code",
        "colab": {}
      },
      "source": [
        ""
      ],
      "execution_count": 0,
      "outputs": []
    }
  ]
}